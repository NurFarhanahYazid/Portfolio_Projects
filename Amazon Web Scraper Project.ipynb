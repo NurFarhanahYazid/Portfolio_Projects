{
 "cells": [
  {
   "cell_type": "code",
   "execution_count": 1,
   "id": "7db1c556",
   "metadata": {},
   "outputs": [],
   "source": [
    "#1.import library\n",
    "\n",
    "from bs4 import BeautifulSoup\n",
    "import requests\n",
    "import time\n",
    "import datetime\n",
    "\n",
    "import smtplib #not part in project, but can send email to yourself!"
   ]
  },
  {
   "cell_type": "code",
   "execution_count": 3,
   "id": "b321680e",
   "metadata": {},
   "outputs": [
    {
     "name": "stdout",
     "output_type": "stream",
     "text": [
      "\n",
      "              Funny Got Data MIS Data Systems Business Analyst T-Shirt\n",
      "             \n",
      "\n",
      "               $16.99\n",
      "              \n"
     ]
    }
   ],
   "source": [
    "#connect to website\n",
    " #copy URL (link)\n",
    "URL = 'https://www.amazon.com/Funny-Data-Systems-Business-Analyst/dp/B07FNW9FGJ'\n",
    " #user agent = headers #tak perlu tahu\n",
    "headers = {\"User-Agent\": \"Mozilla/5.0 (Windows NT 10.0; Win64; x64) AppleWebKit/537.36 (KHTML, like Gecko) Chrome/78.0.3904.108 Safari/537.36\", \"Accept-Encoding\":\"gzip, deflate\", \"Accept\":\"text/html,application/xhtml+xml,application/xml;q=0.9,*/*;q=0.8\", \"DNT\":\"1\",\"Connection\":\"close\", \"Upgrade-Insecure-Requests\":\"1\"}\n",
    "#use library\n",
    "page = requests.get(URL, headers=headers)\n",
    "\n",
    "#beautifulsoup library\n",
    "soup1 = BeautifulSoup(page.content, \"html.parser\") #website > right click > inspect >ctrl shift i\n",
    "\n",
    "soup2 = BeautifulSoup(soup1.prettify(), \"html.parser\")\n",
    "\n",
    "title = soup2.find(id=\"productTitle\").get_text()\n",
    "#title = soup2.find(id=\"productTitle\").text.strip()\n",
    "#title = soup2.find(id='productTitle').get_text()\n",
    "\n",
    "#price = soup2.find(id='priceblock_ourprice').get_text()\n",
    "\n",
    "price = soup2.find('span', {'class':\"a-offscreen\"}).get_text()\n",
    "#price = soup2.find(id='priceblock_ourprice').get_text()\n",
    "#rating = soup2.find('span', {'class':\"a-size-base a-color-base\"}).get_text()\n",
    "\n",
    "print(title)\n",
    "print(price)\n",
    "#print(rating)"
   ]
  },
  {
   "cell_type": "code",
   "execution_count": null,
   "id": "b8b1d54e",
   "metadata": {},
   "outputs": [],
   "source": [
    "#clean up a little bit - ada space\n",
    "\n",
    "#price.strip()"
   ]
  },
  {
   "cell_type": "code",
   "execution_count": null,
   "id": "36ada2cc",
   "metadata": {},
   "outputs": [],
   "source": [
    "#price.strip()[1:] #del $ sign"
   ]
  },
  {
   "cell_type": "code",
   "execution_count": 4,
   "id": "59ff2227",
   "metadata": {},
   "outputs": [
    {
     "name": "stdout",
     "output_type": "stream",
     "text": [
      "Funny Got Data MIS Data Systems Business Analyst T-Shirt\n",
      "16.99\n"
     ]
    },
    {
     "data": {
      "text/plain": [
       "str"
      ]
     },
     "execution_count": 4,
     "metadata": {},
     "output_type": "execute_result"
    }
   ],
   "source": [
    "#beware- strip banyak kali\n",
    "title = title.strip()\n",
    "price = price.strip()[1:]\n",
    "\n",
    "print(title)\n",
    "print(price)\n",
    "\n",
    "type(price) #check #not useable - make a list"
   ]
  },
  {
   "cell_type": "code",
   "execution_count": 5,
   "id": "fe1e4d3e",
   "metadata": {},
   "outputs": [
    {
     "name": "stdout",
     "output_type": "stream",
     "text": [
      "2023-05-22\n"
     ]
    }
   ],
   "source": [
    "#datestamp\n",
    "\n",
    "import datetime\n",
    "\n",
    "today = datetime.date.today()\n",
    "\n",
    "print(today)"
   ]
  },
  {
   "cell_type": "code",
   "execution_count": 6,
   "id": "fff1cfba",
   "metadata": {},
   "outputs": [],
   "source": [
    "#create csv - insert data into csv\n",
    "\n",
    "import csv #in csv - want headers & data\n",
    "\n",
    "header = ['Title', 'Price', 'Date']\n",
    "data = [title, price, today] #str,str\n",
    "\n",
    "#important- what type of data, how data is (array, list, dict)\n",
    "\n",
    "#create csv\n",
    "\n",
    "     #(name your file, w/r,newline(when insert, no space), encoding (default)\n",
    "#with open('AmazonWebScraperDataset.csv', 'w', newline='', encoding='UTF8') as f:\n",
    "    #writer = csv.writer(f) #something within csv\n",
    "    #writer.writerow(header) #create header #insert data in csv\n",
    "    #writer.writerow(data)\n",
    "#check"
   ]
  },
  {
   "cell_type": "code",
   "execution_count": 12,
   "id": "6c45853b",
   "metadata": {},
   "outputs": [
    {
     "name": "stdout",
     "output_type": "stream",
     "text": [
      "                                               Title  Price        Date\n",
      "0  Funny Got Data MIS Data Systems Business Analy...  16.99  2023-05-22\n",
      "1  Funny Got Data MIS Data Systems Business Analy...  16.99  2023-05-22\n"
     ]
    }
   ],
   "source": [
    "import pandas as pd\n",
    "\n",
    "df = pd.read_csv(r'C:\\Users\\nurfa\\Documents\\Data Analyst Bootcamp\\Python\\AmazonWebScraperDataset.csv')\n",
    "\n",
    "print(df)"
   ]
  },
  {
   "cell_type": "code",
   "execution_count": 11,
   "id": "57b63072",
   "metadata": {},
   "outputs": [],
   "source": [
    "#appending data to csv\n",
    "\n",
    "with open('AmazonWebScraperDataset.csv', 'a+', newline='', encoding='UTF8') as f:\n",
    "    writer = csv.writer(f) \n",
    "    writer.writerow(data)"
   ]
  },
  {
   "cell_type": "code",
   "execution_count": 16,
   "id": "fb69d827",
   "metadata": {},
   "outputs": [],
   "source": [
    "#automate\n",
    "def check_price():\n",
    "    URL = 'https://www.amazon.com/Funny-Data-Systems-Business-Analyst/dp/B07FNW9FGJ'\n",
    "    \n",
    "    headers = {\"User-Agent\": \"Mozilla/5.0 (Windows NT 10.0; Win64; x64) AppleWebKit/537.36 (KHTML, like Gecko) Chrome/78.0.3904.108 Safari/537.36\", \"Accept-Encoding\":\"gzip, deflate\", \"Accept\":\"text/html,application/xhtml+xml,application/xml;q=0.9,*/*;q=0.8\", \"DNT\":\"1\",\"Connection\":\"close\", \"Upgrade-Insecure-Requests\":\"1\"}\n",
    "    \n",
    "    page = requests.get(URL, headers=headers)\n",
    "\n",
    "    soup1 = BeautifulSoup(page.content, \"html.parser\") #website > right click > inspect >ctrl shift i\n",
    "\n",
    "    soup2 = BeautifulSoup(soup1.prettify(), \"html.parser\")\n",
    "\n",
    "    title = soup2.find(id=\"productTitle\").get_text()\n",
    "    \n",
    "    price = soup2.find('span', {'class':\"a-offscreen\"}).get_text()\n",
    "    \n",
    "    title = title.strip()\n",
    "    price = price.strip()[1:]\n",
    "    \n",
    "    import datetime\n",
    "\n",
    "    today = datetime.date.today()\n",
    "    \n",
    "    import csv\n",
    "    \n",
    "    header = ['Title', 'Price', 'Date']\n",
    "    data = [title, price, today]\n",
    "    \n",
    "    with open('AmazonWebScraperDataset.csv', 'a+', newline='', encoding='UTF8') as f:\n",
    "        writer = csv.writer(f) \n",
    "        writer.writerow(data)\n",
    "       \n",
    "    #if (price < 14):\n",
    "        #send_mail() \n",
    "        "
   ]
  },
  {
   "cell_type": "code",
   "execution_count": null,
   "id": "0c00da8c",
   "metadata": {},
   "outputs": [],
   "source": [
    "while (True):\n",
    "    check_price()\n",
    "    time.sleep(86400) #sec (example: 60 sec * 60 min * 24 hours)\n",
    "    "
   ]
  },
  {
   "cell_type": "code",
   "execution_count": 18,
   "id": "84af0ce4",
   "metadata": {},
   "outputs": [
    {
     "name": "stdout",
     "output_type": "stream",
     "text": [
      "                                               Title  Price        Date\n",
      "0  Funny Got Data MIS Data Systems Business Analy...  16.99  2023-05-22\n",
      "1  Funny Got Data MIS Data Systems Business Analy...  16.99  2023-05-22\n",
      "2  Funny Got Data MIS Data Systems Business Analy...  16.99  2023-05-22\n",
      "3  Funny Got Data MIS Data Systems Business Analy...  16.99  2023-05-22\n",
      "4  Funny Got Data MIS Data Systems Business Analy...  16.99  2023-05-22\n",
      "5  Funny Got Data MIS Data Systems Business Analy...  16.99  2023-05-22\n",
      "6  Funny Got Data MIS Data Systems Business Analy...  16.99  2023-05-22\n",
      "7  Funny Got Data MIS Data Systems Business Analy...  16.99  2023-05-22\n"
     ]
    }
   ],
   "source": [
    "import pandas as pd\n",
    "\n",
    "df = pd.read_csv(r'C:\\Users\\nurfa\\Documents\\Data Analyst Bootcamp\\Python\\AmazonWebScraperDataset.csv')\n",
    "\n",
    "print(df)"
   ]
  },
  {
   "cell_type": "code",
   "execution_count": null,
   "id": "cf90ebc8",
   "metadata": {},
   "outputs": [],
   "source": [
    "# If uou want to try sending yourself an email (just for fun) when a price hits below a certain level you can try it\n",
    "# out with this script\n",
    "\n",
    "def send_mail():\n",
    "    server = smtplib.SMTP_SSL('smtp.gmail.com',465)\n",
    "    server.ehlo()\n",
    "    #server.starttls()\n",
    "    server.ehlo()\n",
    "    server.login('n.farhanahyazid@gmail.com','xxxxxxxxxxxxxx')#write your password\n",
    "    \n",
    "    subject = \"The Shirt you want is below $15! Now is your chance to buy!\"\n",
    "    body = \"Alex, This is the moment we have been waiting for. Now is your chance to pick up the shirt of your dreams. Don't mess it up! Link here: https://www.amazon.com/Funny-Data-Systems-Business-Analyst/dp/B07FNW9FGJ/ref=sr_1_3?dchild=1&keywords=data+analyst+tshirt&qid=1626655184&sr=8-3\"\n",
    "   \n",
    "    msg = f\"Subject: {subject}\\n\\n{body}\"\n",
    "    \n",
    "    server.sendmail(\n",
    "        'AlexTheAnalyst95@gmail.com',\n",
    "        msg\n",
    "     \n",
    "    )"
   ]
  },
  {
   "cell_type": "code",
   "execution_count": null,
   "id": "0b87a4f9",
   "metadata": {},
   "outputs": [],
   "source": []
  },
  {
   "cell_type": "code",
   "execution_count": null,
   "id": "306aee6d",
   "metadata": {},
   "outputs": [],
   "source": []
  }
 ],
 "metadata": {
  "kernelspec": {
   "display_name": "Python 3 (ipykernel)",
   "language": "python",
   "name": "python3"
  },
  "language_info": {
   "codemirror_mode": {
    "name": "ipython",
    "version": 3
   },
   "file_extension": ".py",
   "mimetype": "text/x-python",
   "name": "python",
   "nbconvert_exporter": "python",
   "pygments_lexer": "ipython3",
   "version": "3.9.13"
  }
 },
 "nbformat": 4,
 "nbformat_minor": 5
}
